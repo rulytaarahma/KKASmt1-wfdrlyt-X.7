{
  "nbformat": 4,
  "nbformat_minor": 0,
  "metadata": {
    "colab": {
      "provenance": [],
      "authorship_tag": "ABX9TyOfuCvfhJUJmTH8U1DdCBVV",
      "include_colab_link": true
    },
    "kernelspec": {
      "name": "python3",
      "display_name": "Python 3"
    },
    "language_info": {
      "name": "python"
    }
  },
  "cells": [
    {
      "cell_type": "markdown",
      "metadata": {
        "id": "view-in-github",
        "colab_type": "text"
      },
      "source": [
        "<a href=\"https://colab.research.google.com/github/rulytaarahma/KKASmt1-wfdrlyt-X.7/blob/main/1_Untitled1.ipynb\" target=\"_parent\"><img src=\"https://colab.research.google.com/assets/colab-badge.svg\" alt=\"Open In Colab\"/></a>"
      ]
    },
    {
      "cell_type": "markdown",
      "source": [
        "#menampilkan teks bebas dan nilai variabel"
      ],
      "metadata": {
        "id": "Q8__iHG0QlkO"
      }
    },
    {
      "cell_type": "markdown",
      "source": [
        "Nama:wafda rulyta rahma aqila\n",
        "\n",
        "kelas:X.7\n",
        "\n",
        "Nomor absen:38"
      ],
      "metadata": {
        "id": "Um3OgH5eUy-I"
      }
    },
    {
      "cell_type": "markdown",
      "source": [
        "#Menampilkan Teks Bebas Dengan Tanda Kutip"
      ],
      "metadata": {
        "id": "tWccj4YtPORS"
      }
    },
    {
      "cell_type": "code",
      "source": [
        "LuasMAN=1.1\n",
        "print(\"Luas MAN adalah {LuasMAN} kilometer persegi.\")"
      ],
      "metadata": {
        "colab": {
          "base_uri": "https://localhost:8080/"
        },
        "id": "ONQoWWI-S9Mg",
        "outputId": "3327995f-65e3-491f-e417-bdbbdb66c5a3"
      },
      "execution_count": null,
      "outputs": [
        {
          "output_type": "stream",
          "name": "stdout",
          "text": [
            "Luas MAN adalah {LuasMAN} kilometer persegi.\n"
          ]
        }
      ]
    },
    {
      "cell_type": "markdown",
      "source": [
        "#menampilkan variabel integer"
      ],
      "metadata": {
        "id": "9kSyn2FVQT79"
      }
    },
    {
      "cell_type": "code",
      "source": [
        "tinggi_badan=145\n",
        "print(tinggi_badan)"
      ],
      "metadata": {
        "colab": {
          "base_uri": "https://localhost:8080/"
        },
        "id": "u4JWfhPjNvEl",
        "outputId": "12cfbeff-0053-48c3-d94a-50b8ae0c05b0"
      },
      "execution_count": null,
      "outputs": [
        {
          "output_type": "stream",
          "name": "stdout",
          "text": [
            "145\n"
          ]
        }
      ]
    },
    {
      "cell_type": "code",
      "execution_count": null,
      "metadata": {
        "colab": {
          "base_uri": "https://localhost:8080/"
        },
        "id": "vw8g-b7HMpw9",
        "outputId": "97a7ae87-714b-4c79-ef50-0abbfabd4fb0"
      },
      "outputs": [
        {
          "output_type": "stream",
          "name": "stdout",
          "text": [
            "41\n"
          ]
        }
      ],
      "source": [
        "beratBadan=41\n",
        "print(beratBadan)"
      ]
    },
    {
      "cell_type": "code",
      "source": [
        "print(\"Tinggi badan: \",tinggi_badan)"
      ],
      "metadata": {
        "colab": {
          "base_uri": "https://localhost:8080/"
        },
        "id": "8Og9IQQ2OJkW",
        "outputId": "063c27c0-b6a9-4287-c18f-b4c6273ebf00"
      },
      "execution_count": null,
      "outputs": [
        {
          "output_type": "stream",
          "name": "stdout",
          "text": [
            "Tinggi badan:  145\n"
          ]
        }
      ]
    },
    {
      "cell_type": "code",
      "source": [
        "usia=15\n",
        "print(usia)"
      ],
      "metadata": {
        "colab": {
          "base_uri": "https://localhost:8080/"
        },
        "id": "yrcHygdwPHjo",
        "outputId": "204c5e94-4d68-4f7d-99a4-8868a000b053"
      },
      "execution_count": null,
      "outputs": [
        {
          "output_type": "stream",
          "name": "stdout",
          "text": [
            "15\n"
          ]
        }
      ]
    },
    {
      "cell_type": "code",
      "source": [
        "print(\"Nama:wafda rulyta rahma aqila\")\n",
        "print(\"kelas:X.7\")\n",
        "print(\"Nomor absen: 38\")"
      ],
      "metadata": {
        "colab": {
          "base_uri": "https://localhost:8080/"
        },
        "id": "l-BxEuUBUWZl",
        "outputId": "979a38bf-8e0b-4556-f34f-83e01d790fd0"
      },
      "execution_count": null,
      "outputs": [
        {
          "output_type": "stream",
          "name": "stdout",
          "text": [
            "Nama:wafda rulyta rahma aqila\n",
            "kelas:X.7\n",
            "Nomor absen: 38\n"
          ]
        }
      ]
    },
    {
      "cell_type": "code",
      "source": [
        "print(\"Nama: Habib jafar\")"
      ],
      "metadata": {
        "colab": {
          "base_uri": "https://localhost:8080/"
        },
        "id": "M-LR8fQUNpZA",
        "outputId": "17ccfdf7-ed87-43fb-8d21-5edffacd279d"
      },
      "execution_count": null,
      "outputs": [
        {
          "output_type": "stream",
          "name": "stdout",
          "text": [
            "Nama: Habib jafar\n"
          ]
        }
      ]
    },
    {
      "cell_type": "code",
      "source": [
        "print('Nama: Habib ja\\'far')"
      ],
      "metadata": {
        "colab": {
          "base_uri": "https://localhost:8080/"
        },
        "id": "Q6WYpJ4CRCfx",
        "outputId": "df153986-ffa3-4f2f-ec8d-9d5770b58c4f"
      },
      "execution_count": null,
      "outputs": [
        {
          "output_type": "stream",
          "name": "stdout",
          "text": [
            "Nama: Habib ja'far\n"
          ]
        }
      ]
    },
    {
      "cell_type": "code",
      "source": [
        "print('Nama: Habib jafar')"
      ],
      "metadata": {
        "colab": {
          "base_uri": "https://localhost:8080/"
        },
        "id": "OKevW8wIQzID",
        "outputId": "a2436e12-1996-46ca-a60b-8d2d30e4445a"
      },
      "execution_count": null,
      "outputs": [
        {
          "output_type": "stream",
          "name": "stdout",
          "text": [
            "Nama: Habib jafar\n"
          ]
        }
      ]
    },
    {
      "cell_type": "code",
      "source": [
        "print(\"Nama: Habib ja'far\")"
      ],
      "metadata": {
        "colab": {
          "base_uri": "https://localhost:8080/"
        },
        "id": "_g8assGRRr2p",
        "outputId": "1fafeb51-c4c3-4115-97a0-d5304ccd0a7e"
      },
      "execution_count": null,
      "outputs": [
        {
          "output_type": "stream",
          "name": "stdout",
          "text": [
            "Nama: Habib ja'far\n"
          ]
        }
      ]
    },
    {
      "cell_type": "code",
      "source": [
        "print(\"Bu shinta berkaata, \\\"Tenang fokus sejenak!\\\".\")"
      ],
      "metadata": {
        "colab": {
          "base_uri": "https://localhost:8080/"
        },
        "id": "mkTNeHftRztF",
        "outputId": "87ec2699-c462-42fd-e2c4-da4e208f7a33"
      },
      "execution_count": null,
      "outputs": [
        {
          "output_type": "stream",
          "name": "stdout",
          "text": [
            "Bu shinta berkaata, \"Tenang fokus sejenak!\".\n"
          ]
        }
      ]
    },
    {
      "cell_type": "code",
      "source": [
        "print('Bu shinta berkata. \"Tenang fokus sejenak!\".')"
      ],
      "metadata": {
        "colab": {
          "base_uri": "https://localhost:8080/"
        },
        "id": "KqCXETrASOQj",
        "outputId": "4a0444c9-c5d0-4fc0-887c-d3da9988ffa1"
      },
      "execution_count": null,
      "outputs": [
        {
          "output_type": "stream",
          "name": "stdout",
          "text": [
            "Bu shinta berkata. \"Tenang fokus sejenak!\".\n"
          ]
        }
      ]
    },
    {
      "cell_type": "code",
      "source": [
        "print(\"Lokasi penyimpanan tugas KKA ada di. local disk D:\\\\KKA\\\\Tugas\")"
      ],
      "metadata": {
        "colab": {
          "base_uri": "https://localhost:8080/"
        },
        "id": "7C4v6UH_ScLq",
        "outputId": "2aec3062-0617-4766-b51a-6941ed95a510"
      },
      "execution_count": null,
      "outputs": [
        {
          "output_type": "stream",
          "name": "stdout",
          "text": [
            "Lokasi penyimpanan tugas KKA ada di. local disk D:\\KKA\\Tugas\n"
          ]
        }
      ]
    },
    {
      "cell_type": "markdown",
      "source": [
        "Parameter fungsi print"
      ],
      "metadata": {
        "id": "GF25AFgDWF2W"
      }
    },
    {
      "cell_type": "code",
      "source": [
        "Tanggal=18\n",
        "Bulan=\"Februari\"\n",
        "Tahun=2000"
      ],
      "metadata": {
        "id": "qujIYO2MVuXc"
      },
      "execution_count": null,
      "outputs": []
    },
    {
      "cell_type": "code",
      "source": [
        "#18-februari-2000\n",
        "print(Tanggal)\n",
        "print(Bulan)\n",
        "print(Tahun)"
      ],
      "metadata": {
        "colab": {
          "base_uri": "https://localhost:8080/"
        },
        "id": "7I4SF7vRWBu6",
        "outputId": "5e1eb43d-5fd9-443d-fbec-adc360d5a03f"
      },
      "execution_count": null,
      "outputs": [
        {
          "output_type": "stream",
          "name": "stdout",
          "text": [
            "18\n",
            "Februari\n",
            "2000\n"
          ]
        }
      ]
    },
    {
      "cell_type": "code",
      "source": [
        "#18-februari-2000\n",
        "print(Tanggal,Bulan,Tahun, sep=\"-\")"
      ],
      "metadata": {
        "colab": {
          "base_uri": "https://localhost:8080/"
        },
        "id": "Mun-tvjyWZl8",
        "outputId": "07adddfe-2cd5-4d36-a5cb-2ff80ea29cfb"
      },
      "execution_count": null,
      "outputs": [
        {
          "output_type": "stream",
          "name": "stdout",
          "text": [
            "18-Februari-2000\n"
          ]
        }
      ]
    },
    {
      "cell_type": "code",
      "source": [
        "#18-februari-2000\n",
        "print(Tanggal, end=\"-\")\n",
        "print(Bulan, end=\"-\")\n",
        "print(Tahun)"
      ],
      "metadata": {
        "colab": {
          "base_uri": "https://localhost:8080/"
        },
        "id": "99k7JI2GWpTY",
        "outputId": "8f0bda20-62ed-466a-cad9-ee31a8fca894"
      },
      "execution_count": null,
      "outputs": [
        {
          "output_type": "stream",
          "name": "stdout",
          "text": [
            "18-Februari-2000\n"
          ]
        }
      ]
    }
  ]
}